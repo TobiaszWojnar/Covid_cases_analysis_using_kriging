{
 "cells": [
  {
   "cell_type": "markdown",
   "metadata": {},
   "source": [
    "# 0. Importing libraries"
   ]
  },
  {
   "cell_type": "code",
   "execution_count": null,
   "metadata": {},
   "outputs": [],
   "source": [
    "import numpy as np\n",
    "import pandas as pd\n",
    "import geopandas as gpd\n",
    "\n",
    "from pyinterpolate import prepare_areal_shapefile  # Prepare data\n",
    "from pyinterpolate import get_points_within_area  # Prepare data\n",
    "from pyinterpolate import calculate_semivariance  # Experimental semivariogram\n",
    "from pyinterpolate import RegularizedSemivariogram  # Semivariogram regularization class\n",
    "\n",
    "import matplotlib.pyplot as plt"
   ]
  },
  {
   "cell_type": "markdown",
   "metadata": {},
   "source": [
    "# 1. Read csv (or excel) data\n",
    "Columns should consist of:\n",
    "    \n",
    "    ID  3 or 4 digit ID where first one/two digits are voivodships id and two last of districts in that voivodship\n",
    "    NAZWA name of the district\n",
    "    VOIVOD name of voivodship\n",
    "    next columns contain actual data"
   ]
  },
  {
   "cell_type": "code",
   "execution_count": 2,
   "metadata": {},
   "outputs": [
    {
     "data": {
      "text/html": [
       "<div>\n",
       "<style scoped>\n",
       "    .dataframe tbody tr th:only-of-type {\n",
       "        vertical-align: middle;\n",
       "    }\n",
       "\n",
       "    .dataframe tbody tr th {\n",
       "        vertical-align: top;\n",
       "    }\n",
       "\n",
       "    .dataframe thead th {\n",
       "        text-align: right;\n",
       "    }\n",
       "</style>\n",
       "<table border=\"1\" class=\"dataframe\">\n",
       "  <thead>\n",
       "    <tr style=\"text-align: right;\">\n",
       "      <th></th>\n",
       "      <th>NAZWA</th>\n",
       "      <th>VOIVOD</th>\n",
       "      <th>1.09</th>\n",
       "      <th>14.09</th>\n",
       "      <th>30.09</th>\n",
       "    </tr>\n",
       "    <tr>\n",
       "      <th>ID</th>\n",
       "      <th></th>\n",
       "      <th></th>\n",
       "      <th></th>\n",
       "      <th></th>\n",
       "      <th></th>\n",
       "    </tr>\n",
       "  </thead>\n",
       "  <tbody>\n",
       "    <tr>\n",
       "      <th>201</th>\n",
       "      <td>powiat aleksandrowski</td>\n",
       "      <td>kujawsko-pomorskie</td>\n",
       "      <td>57</td>\n",
       "      <td>94</td>\n",
       "      <td>213</td>\n",
       "    </tr>\n",
       "    <tr>\n",
       "      <th>202</th>\n",
       "      <td>powiat brodnicki</td>\n",
       "      <td>kujawsko-pomorskie</td>\n",
       "      <td>45</td>\n",
       "      <td>52</td>\n",
       "      <td>73</td>\n",
       "    </tr>\n",
       "    <tr>\n",
       "      <th>203</th>\n",
       "      <td>powiat bydgoski i Bydgoszcz</td>\n",
       "      <td>kujawsko-pomorskie</td>\n",
       "      <td>336</td>\n",
       "      <td>366</td>\n",
       "      <td>501</td>\n",
       "    </tr>\n",
       "    <tr>\n",
       "      <th>204</th>\n",
       "      <td>powiat chełmiński</td>\n",
       "      <td>kujawsko-pomorskie</td>\n",
       "      <td>84</td>\n",
       "      <td>87</td>\n",
       "      <td>96</td>\n",
       "    </tr>\n",
       "    <tr>\n",
       "      <th>205</th>\n",
       "      <td>powiat golubsko-dobrzyński</td>\n",
       "      <td>kujawsko-pomorskie</td>\n",
       "      <td>10</td>\n",
       "      <td>11</td>\n",
       "      <td>16</td>\n",
       "    </tr>\n",
       "  </tbody>\n",
       "</table>\n",
       "</div>"
      ],
      "text/plain": [
       "                           NAZWA              VOIVOD  1.09  14.09  30.09\n",
       "ID                                                                      \n",
       "201        powiat aleksandrowski  kujawsko-pomorskie    57     94    213\n",
       "202             powiat brodnicki  kujawsko-pomorskie    45     52     73\n",
       "203  powiat bydgoski i Bydgoszcz  kujawsko-pomorskie   336    366    501\n",
       "204            powiat chełmiński  kujawsko-pomorskie    84     87     96\n",
       "205   powiat golubsko-dobrzyński  kujawsko-pomorskie    10     11     16"
      ]
     },
     "execution_count": 2,
     "metadata": {},
     "output_type": "execute_result"
    }
   ],
   "source": [
    "df = pd.read_csv('input_data/raw_covid_data/covid wrzesien cropped.csv', sep=';', index_col='ID')\n",
    "df.head()"
   ]
  },
  {
   "cell_type": "markdown",
   "metadata": {},
   "source": [
    "# 2. Read shapefile data."
   ]
  },
  {
   "cell_type": "code",
   "execution_count": 3,
   "metadata": {},
   "outputs": [
    {
     "data": {
      "text/html": [
       "<div>\n",
       "<style scoped>\n",
       "    .dataframe tbody tr th:only-of-type {\n",
       "        vertical-align: middle;\n",
       "    }\n",
       "\n",
       "    .dataframe tbody tr th {\n",
       "        vertical-align: top;\n",
       "    }\n",
       "\n",
       "    .dataframe thead th {\n",
       "        text-align: right;\n",
       "    }\n",
       "</style>\n",
       "<table border=\"1\" class=\"dataframe\">\n",
       "  <thead>\n",
       "    <tr style=\"text-align: right;\">\n",
       "      <th></th>\n",
       "      <th>NAZWA</th>\n",
       "      <th>VOIVOD</th>\n",
       "      <th>geometry</th>\n",
       "    </tr>\n",
       "    <tr>\n",
       "      <th>ID</th>\n",
       "      <th></th>\n",
       "      <th></th>\n",
       "      <th></th>\n",
       "    </tr>\n",
       "  </thead>\n",
       "  <tbody>\n",
       "    <tr>\n",
       "      <th>915</th>\n",
       "      <td>powiat ropczycko-sędziszowski</td>\n",
       "      <td>podkarpackie</td>\n",
       "      <td>POLYGON ((21.69429 50.17849, 21.69440 50.17849...</td>\n",
       "    </tr>\n",
       "    <tr>\n",
       "      <th>710</th>\n",
       "      <td>powiat łosicki</td>\n",
       "      <td>mazowieckie</td>\n",
       "      <td>POLYGON ((22.72381 52.28039, 22.72379 52.28043...</td>\n",
       "    </tr>\n",
       "    <tr>\n",
       "      <th>718</th>\n",
       "      <td>powiat piaseczyński</td>\n",
       "      <td>mazowieckie</td>\n",
       "      <td>POLYGON ((21.11010 52.11317, 21.10875 52.11459...</td>\n",
       "    </tr>\n",
       "    <tr>\n",
       "      <th>727</th>\n",
       "      <td>powiat sierpecki</td>\n",
       "      <td>mazowieckie</td>\n",
       "      <td>POLYGON ((19.50876 52.86784, 19.50873 52.86795...</td>\n",
       "    </tr>\n",
       "    <tr>\n",
       "      <th>730</th>\n",
       "      <td>powiat szydłowiecki</td>\n",
       "      <td>mazowieckie</td>\n",
       "      <td>POLYGON ((20.80150 51.31374, 20.80195 51.31390...</td>\n",
       "    </tr>\n",
       "  </tbody>\n",
       "</table>\n",
       "</div>"
      ],
      "text/plain": [
       "                             NAZWA        VOIVOD  \\\n",
       "ID                                                 \n",
       "915  powiat ropczycko-sędziszowski  podkarpackie   \n",
       "710                 powiat łosicki   mazowieckie   \n",
       "718            powiat piaseczyński   mazowieckie   \n",
       "727               powiat sierpecki   mazowieckie   \n",
       "730            powiat szydłowiecki   mazowieckie   \n",
       "\n",
       "                                              geometry  \n",
       "ID                                                      \n",
       "915  POLYGON ((21.69429 50.17849, 21.69440 50.17849...  \n",
       "710  POLYGON ((22.72381 52.28039, 22.72379 52.28043...  \n",
       "718  POLYGON ((21.11010 52.11317, 21.10875 52.11459...  \n",
       "727  POLYGON ((19.50876 52.86784, 19.50873 52.86795...  \n",
       "730  POLYGON ((20.80150 51.31374, 20.80195 51.31390...  "
      ]
     },
     "execution_count": 3,
     "metadata": {},
     "output_type": "execute_result"
    }
   ],
   "source": [
    "gdf = gpd.read_file('input_data/powiaty/Powiaty.shp', encoding='utf8')\n",
    "gdf.set_index('ID', inplace=True)\n",
    "gdf.head()"
   ]
  },
  {
   "cell_type": "markdown",
   "metadata": {},
   "source": [
    "# 3. Merge data.\n",
    "Using `.merge()` function looses indexes and there were problems making it not loose it. Because of that `.join()` was used"
   ]
  },
  {
   "cell_type": "code",
   "execution_count": 4,
   "metadata": {},
   "outputs": [
    {
     "data": {
      "text/html": [
       "<div>\n",
       "<style scoped>\n",
       "    .dataframe tbody tr th:only-of-type {\n",
       "        vertical-align: middle;\n",
       "    }\n",
       "\n",
       "    .dataframe tbody tr th {\n",
       "        vertical-align: top;\n",
       "    }\n",
       "\n",
       "    .dataframe thead th {\n",
       "        text-align: right;\n",
       "    }\n",
       "</style>\n",
       "<table border=\"1\" class=\"dataframe\">\n",
       "  <thead>\n",
       "    <tr style=\"text-align: right;\">\n",
       "      <th></th>\n",
       "      <th>NAZWA</th>\n",
       "      <th>VOIVOD</th>\n",
       "      <th>geometry</th>\n",
       "      <th>1.09</th>\n",
       "      <th>14.09</th>\n",
       "      <th>30.09</th>\n",
       "    </tr>\n",
       "    <tr>\n",
       "      <th>ID</th>\n",
       "      <th></th>\n",
       "      <th></th>\n",
       "      <th></th>\n",
       "      <th></th>\n",
       "      <th></th>\n",
       "      <th></th>\n",
       "    </tr>\n",
       "  </thead>\n",
       "  <tbody>\n",
       "    <tr>\n",
       "      <th>915</th>\n",
       "      <td>powiat ropczycko-sędziszowski</td>\n",
       "      <td>podkarpackie</td>\n",
       "      <td>POLYGON ((21.69429 50.17849, 21.69440 50.17849...</td>\n",
       "      <td>NaN</td>\n",
       "      <td>NaN</td>\n",
       "      <td>NaN</td>\n",
       "    </tr>\n",
       "    <tr>\n",
       "      <th>710</th>\n",
       "      <td>powiat łosicki</td>\n",
       "      <td>mazowieckie</td>\n",
       "      <td>POLYGON ((22.72381 52.28039, 22.72379 52.28043...</td>\n",
       "      <td>NaN</td>\n",
       "      <td>NaN</td>\n",
       "      <td>NaN</td>\n",
       "    </tr>\n",
       "    <tr>\n",
       "      <th>718</th>\n",
       "      <td>powiat piaseczyński</td>\n",
       "      <td>mazowieckie</td>\n",
       "      <td>POLYGON ((21.11010 52.11317, 21.10875 52.11459...</td>\n",
       "      <td>NaN</td>\n",
       "      <td>NaN</td>\n",
       "      <td>NaN</td>\n",
       "    </tr>\n",
       "    <tr>\n",
       "      <th>727</th>\n",
       "      <td>powiat sierpecki</td>\n",
       "      <td>mazowieckie</td>\n",
       "      <td>POLYGON ((19.50876 52.86784, 19.50873 52.86795...</td>\n",
       "      <td>NaN</td>\n",
       "      <td>NaN</td>\n",
       "      <td>NaN</td>\n",
       "    </tr>\n",
       "    <tr>\n",
       "      <th>730</th>\n",
       "      <td>powiat szydłowiecki</td>\n",
       "      <td>mazowieckie</td>\n",
       "      <td>POLYGON ((20.80150 51.31374, 20.80195 51.31390...</td>\n",
       "      <td>NaN</td>\n",
       "      <td>NaN</td>\n",
       "      <td>NaN</td>\n",
       "    </tr>\n",
       "  </tbody>\n",
       "</table>\n",
       "</div>"
      ],
      "text/plain": [
       "                             NAZWA        VOIVOD  \\\n",
       "ID                                                 \n",
       "915  powiat ropczycko-sędziszowski  podkarpackie   \n",
       "710                 powiat łosicki   mazowieckie   \n",
       "718            powiat piaseczyński   mazowieckie   \n",
       "727               powiat sierpecki   mazowieckie   \n",
       "730            powiat szydłowiecki   mazowieckie   \n",
       "\n",
       "                                              geometry  1.09  14.09  30.09  \n",
       "ID                                                                          \n",
       "915  POLYGON ((21.69429 50.17849, 21.69440 50.17849...   NaN    NaN    NaN  \n",
       "710  POLYGON ((22.72381 52.28039, 22.72379 52.28043...   NaN    NaN    NaN  \n",
       "718  POLYGON ((21.11010 52.11317, 21.10875 52.11459...   NaN    NaN    NaN  \n",
       "727  POLYGON ((19.50876 52.86784, 19.50873 52.86795...   NaN    NaN    NaN  \n",
       "730  POLYGON ((20.80150 51.31374, 20.80195 51.31390...   NaN    NaN    NaN  "
      ]
     },
     "execution_count": 4,
     "metadata": {},
     "output_type": "execute_result"
    }
   ],
   "source": [
    "second_df = df.drop(['NAZWA','VOIVOD'], axis=1)\n",
    "\n",
    "ndf = gdf.join(second_df, lsuffix='_g')\n",
    "ndf.head()\n",
    "#ndf.dropna()"
   ]
  },
  {
   "cell_type": "markdown",
   "metadata": {},
   "source": [
    "## To make sure everything is working we can polt data\n"
   ]
  },
  {
   "cell_type": "code",
   "execution_count": 6,
   "metadata": {},
   "outputs": [
    {
     "data": {
      "text/html": [
       "<div>\n",
       "<style scoped>\n",
       "    .dataframe tbody tr th:only-of-type {\n",
       "        vertical-align: middle;\n",
       "    }\n",
       "\n",
       "    .dataframe tbody tr th {\n",
       "        vertical-align: top;\n",
       "    }\n",
       "\n",
       "    .dataframe thead th {\n",
       "        text-align: right;\n",
       "    }\n",
       "</style>\n",
       "<table border=\"1\" class=\"dataframe\">\n",
       "  <thead>\n",
       "    <tr style=\"text-align: right;\">\n",
       "      <th></th>\n",
       "      <th>NAZWA</th>\n",
       "      <th>VOIVOD</th>\n",
       "      <th>geometry</th>\n",
       "      <th>1.09</th>\n",
       "      <th>14.09</th>\n",
       "      <th>30.09</th>\n",
       "    </tr>\n",
       "    <tr>\n",
       "      <th>ID</th>\n",
       "      <th></th>\n",
       "      <th></th>\n",
       "      <th></th>\n",
       "      <th></th>\n",
       "      <th></th>\n",
       "      <th></th>\n",
       "    </tr>\n",
       "  </thead>\n",
       "  <tbody>\n",
       "    <tr>\n",
       "      <th>915</th>\n",
       "      <td>powiat ropczycko-sędziszowski</td>\n",
       "      <td>podkarpackie</td>\n",
       "      <td>POLYGON ((21.69429 50.17849, 21.69440 50.17849...</td>\n",
       "      <td>NaN</td>\n",
       "      <td>NaN</td>\n",
       "      <td>NaN</td>\n",
       "    </tr>\n",
       "    <tr>\n",
       "      <th>710</th>\n",
       "      <td>powiat łosicki</td>\n",
       "      <td>mazowieckie</td>\n",
       "      <td>POLYGON ((22.72381 52.28039, 22.72379 52.28043...</td>\n",
       "      <td>NaN</td>\n",
       "      <td>NaN</td>\n",
       "      <td>NaN</td>\n",
       "    </tr>\n",
       "    <tr>\n",
       "      <th>718</th>\n",
       "      <td>powiat piaseczyński</td>\n",
       "      <td>mazowieckie</td>\n",
       "      <td>POLYGON ((21.11010 52.11317, 21.10875 52.11459...</td>\n",
       "      <td>NaN</td>\n",
       "      <td>NaN</td>\n",
       "      <td>NaN</td>\n",
       "    </tr>\n",
       "    <tr>\n",
       "      <th>727</th>\n",
       "      <td>powiat sierpecki</td>\n",
       "      <td>mazowieckie</td>\n",
       "      <td>POLYGON ((19.50876 52.86784, 19.50873 52.86795...</td>\n",
       "      <td>NaN</td>\n",
       "      <td>NaN</td>\n",
       "      <td>NaN</td>\n",
       "    </tr>\n",
       "    <tr>\n",
       "      <th>730</th>\n",
       "      <td>powiat szydłowiecki</td>\n",
       "      <td>mazowieckie</td>\n",
       "      <td>POLYGON ((20.80150 51.31374, 20.80195 51.31390...</td>\n",
       "      <td>NaN</td>\n",
       "      <td>NaN</td>\n",
       "      <td>NaN</td>\n",
       "    </tr>\n",
       "  </tbody>\n",
       "</table>\n",
       "</div>"
      ],
      "text/plain": [
       "                             NAZWA        VOIVOD  \\\n",
       "ID                                                 \n",
       "915  powiat ropczycko-sędziszowski  podkarpackie   \n",
       "710                 powiat łosicki   mazowieckie   \n",
       "718            powiat piaseczyński   mazowieckie   \n",
       "727               powiat sierpecki   mazowieckie   \n",
       "730            powiat szydłowiecki   mazowieckie   \n",
       "\n",
       "                                              geometry  1.09  14.09  30.09  \n",
       "ID                                                                          \n",
       "915  POLYGON ((21.69429 50.17849, 21.69440 50.17849...   NaN    NaN    NaN  \n",
       "710  POLYGON ((22.72381 52.28039, 22.72379 52.28043...   NaN    NaN    NaN  \n",
       "718  POLYGON ((21.11010 52.11317, 21.10875 52.11459...   NaN    NaN    NaN  \n",
       "727  POLYGON ((19.50876 52.86784, 19.50873 52.86795...   NaN    NaN    NaN  \n",
       "730  POLYGON ((20.80150 51.31374, 20.80195 51.31390...   NaN    NaN    NaN  "
      ]
     },
     "execution_count": 6,
     "metadata": {},
     "output_type": "execute_result"
    },
    {
     "data": {
      "image/png": "[encoded data removed]",
      "text/plain": [
       "<Figure size 432x288 with 1 Axes>"
      ]
     },
     "metadata": {
      "needs_background": "light"
     },
     "output_type": "display_data"
    }
   ],
   "source": [
    "ndf.plot(column='14.09', cmap='viridis')\n",
    "ndf.head()"
   ]
  },
  {
   "cell_type": "markdown",
   "metadata": {},
   "source": [
    "## Also we can look at basic statistic"
   ]
  },
  {
   "cell_type": "code",
   "execution_count": 8,
   "metadata": {},
   "outputs": [
    {
     "data": {
      "text/html": [
       "<div>\n",
       "<style scoped>\n",
       "    .dataframe tbody tr th:only-of-type {\n",
       "        vertical-align: middle;\n",
       "    }\n",
       "\n",
       "    .dataframe tbody tr th {\n",
       "        vertical-align: top;\n",
       "    }\n",
       "\n",
       "    .dataframe thead th {\n",
       "        text-align: right;\n",
       "    }\n",
       "</style>\n",
       "<table border=\"1\" class=\"dataframe\">\n",
       "  <thead>\n",
       "    <tr style=\"text-align: right;\">\n",
       "      <th></th>\n",
       "      <th>1.09</th>\n",
       "      <th>14.09</th>\n",
       "      <th>30.09</th>\n",
       "    </tr>\n",
       "  </thead>\n",
       "  <tbody>\n",
       "    <tr>\n",
       "      <th>count</th>\n",
       "      <td>55.000000</td>\n",
       "      <td>55.000000</td>\n",
       "      <td>55.000000</td>\n",
       "    </tr>\n",
       "    <tr>\n",
       "      <th>mean</th>\n",
       "      <td>88.054545</td>\n",
       "      <td>106.000000</td>\n",
       "      <td>168.000000</td>\n",
       "    </tr>\n",
       "    <tr>\n",
       "      <th>std</th>\n",
       "      <td>135.704256</td>\n",
       "      <td>159.763251</td>\n",
       "      <td>233.590097</td>\n",
       "    </tr>\n",
       "    <tr>\n",
       "      <th>min</th>\n",
       "      <td>0.000000</td>\n",
       "      <td>3.000000</td>\n",
       "      <td>3.000000</td>\n",
       "    </tr>\n",
       "    <tr>\n",
       "      <th>25%</th>\n",
       "      <td>21.000000</td>\n",
       "      <td>25.000000</td>\n",
       "      <td>48.500000</td>\n",
       "    </tr>\n",
       "    <tr>\n",
       "      <th>50%</th>\n",
       "      <td>45.000000</td>\n",
       "      <td>54.000000</td>\n",
       "      <td>82.000000</td>\n",
       "    </tr>\n",
       "    <tr>\n",
       "      <th>75%</th>\n",
       "      <td>88.000000</td>\n",
       "      <td>110.500000</td>\n",
       "      <td>195.500000</td>\n",
       "    </tr>\n",
       "    <tr>\n",
       "      <th>max</th>\n",
       "      <td>852.000000</td>\n",
       "      <td>1013.000000</td>\n",
       "      <td>1424.000000</td>\n",
       "    </tr>\n",
       "  </tbody>\n",
       "</table>\n",
       "</div>"
      ],
      "text/plain": [
       "             1.09        14.09        30.09\n",
       "count   55.000000    55.000000    55.000000\n",
       "mean    88.054545   106.000000   168.000000\n",
       "std    135.704256   159.763251   233.590097\n",
       "min      0.000000     3.000000     3.000000\n",
       "25%     21.000000    25.000000    48.500000\n",
       "50%     45.000000    54.000000    82.000000\n",
       "75%     88.000000   110.500000   195.500000\n",
       "max    852.000000  1013.000000  1424.000000"
      ]
     },
     "execution_count": 8,
     "metadata": {},
     "output_type": "execute_result"
    }
   ],
   "source": [
    "ndf.describe()"
   ]
  },
  {
   "cell_type": "markdown",
   "metadata": {},
   "source": [
    "# 4. Saving data before further analysis\n",
    "## Droping columns with polish characters\n",
    "Saving to file does not support polish characters, even with properly defined encoding.\n",
    "Also no need for saving empty records, so `.dropna()` is used"
   ]
  },
  {
   "cell_type": "code",
   "execution_count": 15,
   "metadata": {},
   "outputs": [],
   "source": [
    "for_saving_ndf = ndf.drop(['NAZWA','VOIVOD'], axis=1)\n",
    "for_saving_ndf = for_saving_ndf.dropna()"
   ]
  },
  {
   "cell_type": "markdown",
   "metadata": {},
   "source": [
    "## Store it as a new file"
   ]
  },
  {
   "cell_type": "code",
   "execution_count": 16,
   "metadata": {},
   "outputs": [
    {
     "name": "stderr",
     "output_type": "stream",
     "text": [
      "CPLE_NotSupported in driver ESRI Shapefile does not support creation option ENCODING\n"
     ]
    }
   ],
   "source": [
    "for_saving_ndf.to_file('./input_data/merged_data_and_shp/covid_wrzesien.shp')"
   ]
  },
  {
   "cell_type": "code",
   "execution_count": null,
   "metadata": {},
   "outputs": [],
   "source": []
  }
 ],
 "metadata": {
  "kernelspec": {
   "display_name": "Python 3",
   "language": "python",
   "name": "python3"
  },
  "language_info": {
   "codemirror_mode": {
    "name": "ipython",
    "version": 3
   },
   "file_extension": ".py",
   "mimetype": "text/x-python",
   "name": "python",
   "nbconvert_exporter": "python",
   "pygments_lexer": "ipython3",
   "version": "3.7.8"
  }
 },
 "nbformat": 4,
 "nbformat_minor": 4
}
